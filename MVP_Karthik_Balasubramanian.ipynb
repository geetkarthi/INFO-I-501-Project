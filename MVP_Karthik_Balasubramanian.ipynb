{
  "nbformat": 4,
  "nbformat_minor": 0,
  "metadata": {
    "colab": {
      "provenance": []
    },
    "kernelspec": {
      "name": "python3",
      "display_name": "Python 3"
    },
    "language_info": {
      "name": "python"
    }
  },
  "cells": [
    {
      "cell_type": "code",
      "source": [
        "%%writefile app.py\n",
        "import pandas as pd\n",
        "import numpy as np\n",
        "import matplotlib.pyplot as plt\n",
        "import seaborn as sns\n",
        "import streamlit as st\n",
        "df = pd.read_csv('/content/drive/MyDrive/understat_per_game.csv')\n",
        "st.title(\"Welcome to Football Statistics\")\n",
        "#the options available\n",
        "array = ['Choose Value', 'League Table', 'Team Performance per Season', 'ppda stats', 'league position over a season (this does not work yet)']\n",
        "selectbox_a = st.selectbox(\n",
        "  \"What do you want to see?\",\n",
        "  [i for i in array]\n",
        ")\n",
        "if selectbox_a == 'Choose Value':\n",
        "  st.write('Choose an option')\n",
        "\n",
        "elif selectbox_a == 'League Table':\n",
        "  selectbox1 = st.selectbox(\n",
        "      \"Select the Season\",\n",
        "      [i for i in df['year'].unique()]\n",
        "  )\n",
        "\n",
        "  selectbox2 = st.selectbox(\n",
        "      \"Select the League\",\n",
        "      [i for i in df['league'].unique()]\n",
        "  )\n",
        "  df_new = df[df['year'] == selectbox1]\n",
        "  df_new = df_new[df_new['league'] == selectbox2]\n",
        "  df_actual_table = df_new.groupby(['year', 'league', 'team'])['wins', 'draws', 'loses', 'scored', 'xG', 'missed', 'xGA', 'xpts', 'pts'].sum()\n",
        "  df_actual_table.sort_values('pts', ascending = False, inplace = True)\n",
        "  st.write(df_actual_table)\n",
        "  st.caption(\"The league table for the season\")\n",
        "\n",
        "elif selectbox_a == 'Team Performance per Season':\n",
        "  selectbox1 = st.selectbox(\n",
        "    \"Select the Team\",\n",
        "    [i for i in df['team'].unique()]\n",
        "  )\n",
        "  a = ['xG performance', 'passes per action']\n",
        "  selectbox2 = st.selectbox(\n",
        "    \"Select the metric\",\n",
        "    [i for i in a]\n",
        "  )\n",
        "  selectbox3 = st.selectbox(\n",
        "    \"Select the Season\",\n",
        "    [i for i in df['year'].unique()]\n",
        "  )\n",
        "\n",
        "  if selectbox2 == 'xG performance':\n",
        "    df_new = df[df['team'] == selectbox1]\n",
        "    df_new = df_new[df_new['year'] == selectbox3]\n",
        "    df_sum = df_new.groupby(['team', 'year'])['xG', 'xGA', 'npxG', 'npxGA', 'scored', 'missed', 'xG_diff', 'xGA_diff', 'xpts', 'xpts_diff'].sum()\n",
        "    df_mean = df_new.groupby(['team', 'year'])['xG', 'xGA', 'npxG', 'npxGA', 'scored', 'missed', 'xG_diff', 'xGA_diff', 'xpts', 'xpts_diff'].mean()\n",
        "    st.write(df_sum)\n",
        "    st.caption(\"Sum of all xG metrics across a season\")\n",
        "    st.write(df_mean)\n",
        "    st.caption(\"Mean of all xG metrics across a season\")\n",
        "\n",
        "  elif selectbox2 == 'passes per action':\n",
        "    df_new = df[df['team'] == selectbox1]\n",
        "    df_new = df_new[df_new['year'] == selectbox3]\n",
        "    df_pass_sum = df_new.groupby(['team', 'year'])['ppda_coef', 'ppda_att', 'ppda_def', 'oppda_coef', 'oppda_att', 'oppda_def'].sum()\n",
        "    df_pass_avg = df_new.groupby(['team', 'year'])['ppda_coef', 'ppda_att', 'ppda_def', 'oppda_coef', 'oppda_att', 'oppda_def'].mean()\n",
        "    st.write(df_pass_sum)\n",
        "    st.caption('Sum of Passes per defensive action for an entire season')\n",
        "    st.write(df_pass_avg)\n",
        "    st.caption('Mean of Passes per defensive action for an entire season')\n",
        "\n",
        "elif selectbox_a == 'ppda stats':\n",
        "  selectbox1 = st.selectbox(\n",
        "    'Select the team',\n",
        "    [i for i in df['team'].unique()]\n",
        "  )\n",
        "\n",
        "  selectbox2 = st.selectbox(\n",
        "    'Select the league',\n",
        "    [i for i in df['league'].unique()]\n",
        "  )\n",
        "\n",
        "  df_new = df[df['team'] == selectbox1]\n",
        "  df_new = df_new[df_new['league'] == selectbox2]\n",
        "  df_actual_sum = df_new.groupby(['year'])['deep', 'deep_allowed', 'ppda_coef', 'oppda_coef'].sum()\n",
        "  df_actual_mean = df_new.groupby(['year'])['deep', 'deep_allowed', 'ppda_coef', 'oppda_coef'].mean()\n",
        "  st.write(df_actual_sum)\n",
        "  st.write(df_actual_mean)\n",
        "  st.caption('Evolution of the team over the years')"
      ],
      "metadata": {
        "colab": {
          "base_uri": "https://localhost:8080/"
        },
        "id": "VCDZv71HjDiL",
        "outputId": "a161c5e1-5a5c-46f3-b271-bb641dbe17eb"
      },
      "execution_count": 28,
      "outputs": [
        {
          "output_type": "stream",
          "name": "stdout",
          "text": [
            "Overwriting app.py\n"
          ]
        }
      ]
    },
    {
      "cell_type": "code",
      "source": [
        "!streamlit run app.py &>/content/logs.txt & curl ipv4.icanhazip.com"
      ],
      "metadata": {
        "colab": {
          "base_uri": "https://localhost:8080/"
        },
        "id": "st8Qpp94jQ-N",
        "outputId": "d0168f71-c9e7-4d5c-a085-d3dfd4f82a79"
      },
      "execution_count": 29,
      "outputs": [
        {
          "output_type": "stream",
          "name": "stdout",
          "text": [
            "34.106.187.8\n"
          ]
        }
      ]
    },
    {
      "cell_type": "code",
      "source": [
        "!npx localtunnel --port 8501"
      ],
      "metadata": {
        "colab": {
          "base_uri": "https://localhost:8080/"
        },
        "id": "g4w9WNBLjV1V",
        "outputId": "778a2cbd-b0a5-4a17-da5a-e882cee1c9bb"
      },
      "execution_count": 30,
      "outputs": [
        {
          "output_type": "stream",
          "name": "stdout",
          "text": [
            "\u001b[K\u001b[?25hnpx: installed 22 in 1.478s\n",
            "your url is: https://wild-heads-double.loca.lt\n",
            "^C\n"
          ]
        }
      ]
    }
  ]
}